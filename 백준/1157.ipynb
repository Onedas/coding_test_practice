{
 "cells": [
  {
   "cell_type": "code",
   "execution_count": 24,
   "metadata": {},
   "outputs": [
    {
     "name": "stdout",
     "output_type": "stream",
     "text": [
      "baaa\n",
      "[('B', 1), ('A', 3)]\n",
      "A\n"
     ]
    }
   ],
   "source": [
    "s=input()\n",
    "s=s.upper()\n",
    "d={}\n",
    "for s_ in s:\n",
    "    if s_ in d:\n",
    "        d[s_]+=1\n",
    "    else:\n",
    "        d[s_]=1\n",
    "\n",
    "m=sorted(d.items(),key=lambda x:x[1])\n",
    "if m[-1][1]==m[-2][1]:\n",
    "    print('?')\n",
    "else:\n",
    "    print(m[-1][0])"
   ]
  }
 ],
 "metadata": {
  "kernelspec": {
   "display_name": "Python 3",
   "language": "python",
   "name": "python3"
  },
  "language_info": {
   "codemirror_mode": {
    "name": "ipython",
    "version": 3
   },
   "file_extension": ".py",
   "mimetype": "text/x-python",
   "name": "python",
   "nbconvert_exporter": "python",
   "pygments_lexer": "ipython3",
   "version": "3.7.3"
  }
 },
 "nbformat": 4,
 "nbformat_minor": 2
}
