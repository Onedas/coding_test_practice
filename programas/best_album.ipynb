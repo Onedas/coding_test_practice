{
 "cells": [
  {
   "cell_type": "code",
   "execution_count": 116,
   "metadata": {},
   "outputs": [],
   "source": [
    "#test1\n",
    "geners=['classic','pop','classic','classic','pop','hiphop']\n",
    "plays=[500,600,500,800,2500,100]\n",
    "\n"
   ]
  },
  {
   "cell_type": "code",
   "execution_count": 178,
   "metadata": {},
   "outputs": [],
   "source": [
    "def solution(geners,plays):\n",
    "    answer=[]\n",
    "    d={}\n",
    "    for i,(g,p) in enumerate(zip(geners,plays)):\n",
    "        if not(g in d):\n",
    "            d[g]={p:[i]}\n",
    "        else:\n",
    "            if not(p in d[g]):\n",
    "                d[g][p]=[i]\n",
    "            else:\n",
    "                d[g][p].append(i)\n",
    "    k=list(map(list,sorted(d.items(),key=lambda x: sum(x[1]))))\n",
    "    for k_ in reversed(k):\n",
    "        num_iter=2\n",
    "        if len(k_[1])==1:\n",
    "            num_iter=1\n",
    "        \n",
    "        for _ in range(num_iter):\n",
    "            m=max(k_[1])\n",
    "            if len(k_[1][m])>1:\n",
    "                answer.append(k_[1][m].pop(0))\n",
    "            e\n",
    "            \n",
    "    return k"
   ]
  },
  {
   "cell_type": "code",
   "execution_count": null,
   "metadata": {},
   "outputs": [],
   "source": []
  },
  {
   "cell_type": "code",
   "execution_count": 189,
   "metadata": {},
   "outputs": [
    {
     "name": "stdout",
     "output_type": "stream",
     "text": [
      "[['hiphop', {100: [5]}], ['classic', {500: [0, 2], 800: [3]}], ['pop', {600: [1], 2500: [4]}]]\n",
      "2500 4\n",
      "600 1\n",
      "800 3\n",
      "500 0\n",
      "100 5\n"
     ]
    }
   ],
   "source": [
    "temp=solution(geners,plays)\n",
    "print(temp)\n",
    "\n",
    "for k_ in reversed(temp):\n",
    "    num_iter=2\n",
    "    if len(k_[1])==1:\n",
    "        num_iter=1\n",
    "    \n",
    "    for _ in range(num_iter):\n",
    "        k_1=k_[1]\n",
    "        m_key=max(k_1)\n",
    "        if len(k_1[m_key])>1:\n",
    "            print(m_key,k_1[m_key].pop(0))\n",
    "        else:\n",
    "            print(m_key,k_1.pop(m_key)[0])\n",
    "        "
   ]
  },
  {
   "cell_type": "code",
   "execution_count": 175,
   "metadata": {},
   "outputs": [
    {
     "name": "stdout",
     "output_type": "stream",
     "text": [
      "[[100, 5]]\n",
      "[[500, 0], [500, 2], [800, 3]]\n",
      "[[600, 1], [2500, 4]]\n"
     ]
    }
   ],
   "source": [
    "for k_ in k:\n",
    "    print(k_)"
   ]
  },
  {
   "cell_type": "code",
   "execution_count": null,
   "metadata": {},
   "outputs": [],
   "source": []
  },
  {
   "cell_type": "code",
   "execution_count": null,
   "metadata": {},
   "outputs": [],
   "source": []
  },
  {
   "cell_type": "code",
   "execution_count": null,
   "metadata": {},
   "outputs": [],
   "source": []
  }
 ],
 "metadata": {
  "kernelspec": {
   "display_name": "Python 3",
   "language": "python",
   "name": "python3"
  },
  "language_info": {
   "codemirror_mode": {
    "name": "ipython",
    "version": 3
   },
   "file_extension": ".py",
   "mimetype": "text/x-python",
   "name": "python",
   "nbconvert_exporter": "python",
   "pygments_lexer": "ipython3",
   "version": "3.7.3"
  }
 },
 "nbformat": 4,
 "nbformat_minor": 4
}
