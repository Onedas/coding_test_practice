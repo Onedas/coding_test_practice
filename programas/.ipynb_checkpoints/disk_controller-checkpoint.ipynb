{
 "cells": [
  {
   "cell_type": "code",
   "execution_count": 142,
   "metadata": {},
   "outputs": [],
   "source": [
    "jobs=[[0, 3], [1, 9], [2, 6]] #answer = 9"
   ]
  },
  {
   "cell_type": "code",
   "execution_count": 143,
   "metadata": {},
   "outputs": [],
   "source": [
    "import heapq\n",
    "def solution(jobs):\n",
    "    answer = 0\n",
    "    jobs.sort(key=lambda x: x[0])\n",
    "    l=len(jobs)\n",
    "    time=0\n",
    "    heap=[]\n",
    "    while (jobs or heap):    \n",
    "        while jobs:\n",
    "            if jobs[0][0]<=time:\n",
    "                j=jobs.pop(0)\n",
    "                \n",
    "                heapq.heappush(heap,[j[1],j[0]])\n",
    "            else:\n",
    "                break\n",
    "        \n",
    "        temp=heap.pop(0)\n",
    "        time += temp[0]\n",
    "        answer += time - temp[1]\n",
    "        \n",
    "    return answer//l"
   ]
  },
  {
   "cell_type": "code",
   "execution_count": 144,
   "metadata": {},
   "outputs": [
    {
     "name": "stdout",
     "output_type": "stream",
     "text": [
      "[[3, 0]] 0\n",
      "3\n",
      "[[6, 2], [9, 1]] 3\n",
      "7\n",
      "[[9, 1]] 9\n",
      "17\n",
      "27\n"
     ]
    }
   ],
   "source": [
    "a=solution(jobs)\n",
    "print(a)"
   ]
  },
  {
   "cell_type": "code",
   "execution_count": null,
   "metadata": {},
   "outputs": [],
   "source": []
  }
 ],
 "metadata": {
  "kernelspec": {
   "display_name": "Python 3",
   "language": "python",
   "name": "python3"
  },
  "language_info": {
   "codemirror_mode": {
    "name": "ipython",
    "version": 3
   },
   "file_extension": ".py",
   "mimetype": "text/x-python",
   "name": "python",
   "nbconvert_exporter": "python",
   "pygments_lexer": "ipython3",
   "version": "3.7.3"
  }
 },
 "nbformat": 4,
 "nbformat_minor": 4
}
