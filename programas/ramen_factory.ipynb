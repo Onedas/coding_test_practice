{
 "cells": [
  {
   "cell_type": "code",
   "execution_count": 11,
   "metadata": {},
   "outputs": [],
   "source": [
    "stock = 4\n",
    "dates = [4, 10, 15]\n",
    "supplies = [20, 5, 10]\n",
    "k = 30"
   ]
  },
  {
   "cell_type": "code",
   "execution_count": 12,
   "metadata": {},
   "outputs": [],
   "source": [
    "## Time 초과 : sort를 heap정렬로 구현 필요. O(log(n)) , sort -> O(n)\n",
    "import heapq\n",
    "def solution(stock, dates, supplies, k):\n",
    "    answer = 0\n",
    "    heap=[]\n",
    "    while stock<k:\n",
    "        for i in range(len(dates)):\n",
    "            if dates[0]<=stock:\n",
    "                dates.pop(0)\n",
    "                heapq.heappush(heap,-supplies.pop(0))\n",
    "            else:\n",
    "                break\n",
    "#         print(heap,type(heap))\n",
    "        stock -= heapq.heappop(heap)\n",
    "        answer+=1\n",
    "    return answer"
   ]
  },
  {
   "cell_type": "code",
   "execution_count": 13,
   "metadata": {},
   "outputs": [
    {
     "name": "stdout",
     "output_type": "stream",
     "text": [
      "[-20] <class 'list'>\n",
      "[-10, -5] <class 'list'>\n",
      "2\n"
     ]
    }
   ],
   "source": [
    "a=solution(stock,dates,supplies,k)\n",
    "print(a)"
   ]
  },
  {
   "cell_type": "code",
   "execution_count": 127,
   "metadata": {},
   "outputs": [
    {
     "name": "stdout",
     "output_type": "stream",
     "text": [
      "done\n",
      "[[10, 5], [15, 10]] 34 30 answer = 1\n"
     ]
    }
   ],
   "source": [
    "answer=0\n",
    "p=[]\n",
    "for i in range(len(dates)):\n",
    "    if dates[0] <= stock:\n",
    "        p.append([dates.pop(0),supplies.pop(0)])\n",
    "\n",
    "# print(max(p,key=lambda x:x[1]))\n",
    "\n",
    "if len(p)>0:\n",
    "    stock+=max(p,key=lambda x:x[1])[1]\n",
    "    answer+=1\n",
    "    print('done')\n",
    "    print(p,stock,k,'answer = {}'.format(answer))"
   ]
  },
  {
   "cell_type": "code",
   "execution_count": null,
   "metadata": {},
   "outputs": [],
   "source": []
  },
  {
   "cell_type": "code",
   "execution_count": null,
   "metadata": {},
   "outputs": [],
   "source": []
  }
 ],
 "metadata": {
  "kernelspec": {
   "display_name": "Python 3",
   "language": "python",
   "name": "python3"
  },
  "language_info": {
   "codemirror_mode": {
    "name": "ipython",
    "version": 3
   },
   "file_extension": ".py",
   "mimetype": "text/x-python",
   "name": "python",
   "nbconvert_exporter": "python",
   "pygments_lexer": "ipython3",
   "version": "3.7.3"
  }
 },
 "nbformat": 4,
 "nbformat_minor": 4
}
